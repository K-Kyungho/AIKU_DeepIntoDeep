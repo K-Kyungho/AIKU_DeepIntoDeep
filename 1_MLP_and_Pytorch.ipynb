{
  "nbformat": 4,
  "nbformat_minor": 0,
  "metadata": {
    "colab": {
      "provenance": []
    },
    "kernelspec": {
      "name": "python3",
      "display_name": "Python 3"
    },
    "language_info": {
      "name": "python"
    },
    "accelerator": "GPU",
    "gpuClass": "standard",
    "widgets": {
      "application/vnd.jupyter.widget-state+json": {
        "d9ad1b69df89477fb0cc3e5ba6715ee2": {
          "model_module": "@jupyter-widgets/controls",
          "model_name": "HBoxModel",
          "model_module_version": "1.5.0",
          "state": {
            "_dom_classes": [],
            "_model_module": "@jupyter-widgets/controls",
            "_model_module_version": "1.5.0",
            "_model_name": "HBoxModel",
            "_view_count": null,
            "_view_module": "@jupyter-widgets/controls",
            "_view_module_version": "1.5.0",
            "_view_name": "HBoxView",
            "box_style": "",
            "children": [
              "IPY_MODEL_f53cfddfdc1a4a26b6ac600a919605a4",
              "IPY_MODEL_1c1cb6f59af14d0a814a8900bc12f521",
              "IPY_MODEL_e98c2ecca66248209c310c4f7717b69f"
            ],
            "layout": "IPY_MODEL_fbe81b7e466a4326983ca39def11b417"
          }
        },
        "f53cfddfdc1a4a26b6ac600a919605a4": {
          "model_module": "@jupyter-widgets/controls",
          "model_name": "HTMLModel",
          "model_module_version": "1.5.0",
          "state": {
            "_dom_classes": [],
            "_model_module": "@jupyter-widgets/controls",
            "_model_module_version": "1.5.0",
            "_model_name": "HTMLModel",
            "_view_count": null,
            "_view_module": "@jupyter-widgets/controls",
            "_view_module_version": "1.5.0",
            "_view_name": "HTMLView",
            "description": "",
            "description_tooltip": null,
            "layout": "IPY_MODEL_2d3ebd332a2540a88c063fa7a36de534",
            "placeholder": "​",
            "style": "IPY_MODEL_8a454fcb234045dba987b1c1a177efad",
            "value": "100%"
          }
        },
        "1c1cb6f59af14d0a814a8900bc12f521": {
          "model_module": "@jupyter-widgets/controls",
          "model_name": "FloatProgressModel",
          "model_module_version": "1.5.0",
          "state": {
            "_dom_classes": [],
            "_model_module": "@jupyter-widgets/controls",
            "_model_module_version": "1.5.0",
            "_model_name": "FloatProgressModel",
            "_view_count": null,
            "_view_module": "@jupyter-widgets/controls",
            "_view_module_version": "1.5.0",
            "_view_name": "ProgressView",
            "bar_style": "success",
            "description": "",
            "description_tooltip": null,
            "layout": "IPY_MODEL_560dc90c258f4d0b8fba878fd3ee18fc",
            "max": 26421880,
            "min": 0,
            "orientation": "horizontal",
            "style": "IPY_MODEL_d3e4566b63bb4c17b9fb8cc057ef225e",
            "value": 26421880
          }
        },
        "e98c2ecca66248209c310c4f7717b69f": {
          "model_module": "@jupyter-widgets/controls",
          "model_name": "HTMLModel",
          "model_module_version": "1.5.0",
          "state": {
            "_dom_classes": [],
            "_model_module": "@jupyter-widgets/controls",
            "_model_module_version": "1.5.0",
            "_model_name": "HTMLModel",
            "_view_count": null,
            "_view_module": "@jupyter-widgets/controls",
            "_view_module_version": "1.5.0",
            "_view_name": "HTMLView",
            "description": "",
            "description_tooltip": null,
            "layout": "IPY_MODEL_ca6ac9ca8ed448c089bf51554f896939",
            "placeholder": "​",
            "style": "IPY_MODEL_082d071da35d4d25926b9ff43bfb1fbc",
            "value": " 26421880/26421880 [00:03&lt;00:00, 13455308.08it/s]"
          }
        },
        "fbe81b7e466a4326983ca39def11b417": {
          "model_module": "@jupyter-widgets/base",
          "model_name": "LayoutModel",
          "model_module_version": "1.2.0",
          "state": {
            "_model_module": "@jupyter-widgets/base",
            "_model_module_version": "1.2.0",
            "_model_name": "LayoutModel",
            "_view_count": null,
            "_view_module": "@jupyter-widgets/base",
            "_view_module_version": "1.2.0",
            "_view_name": "LayoutView",
            "align_content": null,
            "align_items": null,
            "align_self": null,
            "border": null,
            "bottom": null,
            "display": null,
            "flex": null,
            "flex_flow": null,
            "grid_area": null,
            "grid_auto_columns": null,
            "grid_auto_flow": null,
            "grid_auto_rows": null,
            "grid_column": null,
            "grid_gap": null,
            "grid_row": null,
            "grid_template_areas": null,
            "grid_template_columns": null,
            "grid_template_rows": null,
            "height": null,
            "justify_content": null,
            "justify_items": null,
            "left": null,
            "margin": null,
            "max_height": null,
            "max_width": null,
            "min_height": null,
            "min_width": null,
            "object_fit": null,
            "object_position": null,
            "order": null,
            "overflow": null,
            "overflow_x": null,
            "overflow_y": null,
            "padding": null,
            "right": null,
            "top": null,
            "visibility": null,
            "width": null
          }
        },
        "2d3ebd332a2540a88c063fa7a36de534": {
          "model_module": "@jupyter-widgets/base",
          "model_name": "LayoutModel",
          "model_module_version": "1.2.0",
          "state": {
            "_model_module": "@jupyter-widgets/base",
            "_model_module_version": "1.2.0",
            "_model_name": "LayoutModel",
            "_view_count": null,
            "_view_module": "@jupyter-widgets/base",
            "_view_module_version": "1.2.0",
            "_view_name": "LayoutView",
            "align_content": null,
            "align_items": null,
            "align_self": null,
            "border": null,
            "bottom": null,
            "display": null,
            "flex": null,
            "flex_flow": null,
            "grid_area": null,
            "grid_auto_columns": null,
            "grid_auto_flow": null,
            "grid_auto_rows": null,
            "grid_column": null,
            "grid_gap": null,
            "grid_row": null,
            "grid_template_areas": null,
            "grid_template_columns": null,
            "grid_template_rows": null,
            "height": null,
            "justify_content": null,
            "justify_items": null,
            "left": null,
            "margin": null,
            "max_height": null,
            "max_width": null,
            "min_height": null,
            "min_width": null,
            "object_fit": null,
            "object_position": null,
            "order": null,
            "overflow": null,
            "overflow_x": null,
            "overflow_y": null,
            "padding": null,
            "right": null,
            "top": null,
            "visibility": null,
            "width": null
          }
        },
        "8a454fcb234045dba987b1c1a177efad": {
          "model_module": "@jupyter-widgets/controls",
          "model_name": "DescriptionStyleModel",
          "model_module_version": "1.5.0",
          "state": {
            "_model_module": "@jupyter-widgets/controls",
            "_model_module_version": "1.5.0",
            "_model_name": "DescriptionStyleModel",
            "_view_count": null,
            "_view_module": "@jupyter-widgets/base",
            "_view_module_version": "1.2.0",
            "_view_name": "StyleView",
            "description_width": ""
          }
        },
        "560dc90c258f4d0b8fba878fd3ee18fc": {
          "model_module": "@jupyter-widgets/base",
          "model_name": "LayoutModel",
          "model_module_version": "1.2.0",
          "state": {
            "_model_module": "@jupyter-widgets/base",
            "_model_module_version": "1.2.0",
            "_model_name": "LayoutModel",
            "_view_count": null,
            "_view_module": "@jupyter-widgets/base",
            "_view_module_version": "1.2.0",
            "_view_name": "LayoutView",
            "align_content": null,
            "align_items": null,
            "align_self": null,
            "border": null,
            "bottom": null,
            "display": null,
            "flex": null,
            "flex_flow": null,
            "grid_area": null,
            "grid_auto_columns": null,
            "grid_auto_flow": null,
            "grid_auto_rows": null,
            "grid_column": null,
            "grid_gap": null,
            "grid_row": null,
            "grid_template_areas": null,
            "grid_template_columns": null,
            "grid_template_rows": null,
            "height": null,
            "justify_content": null,
            "justify_items": null,
            "left": null,
            "margin": null,
            "max_height": null,
            "max_width": null,
            "min_height": null,
            "min_width": null,
            "object_fit": null,
            "object_position": null,
            "order": null,
            "overflow": null,
            "overflow_x": null,
            "overflow_y": null,
            "padding": null,
            "right": null,
            "top": null,
            "visibility": null,
            "width": null
          }
        },
        "d3e4566b63bb4c17b9fb8cc057ef225e": {
          "model_module": "@jupyter-widgets/controls",
          "model_name": "ProgressStyleModel",
          "model_module_version": "1.5.0",
          "state": {
            "_model_module": "@jupyter-widgets/controls",
            "_model_module_version": "1.5.0",
            "_model_name": "ProgressStyleModel",
            "_view_count": null,
            "_view_module": "@jupyter-widgets/base",
            "_view_module_version": "1.2.0",
            "_view_name": "StyleView",
            "bar_color": null,
            "description_width": ""
          }
        },
        "ca6ac9ca8ed448c089bf51554f896939": {
          "model_module": "@jupyter-widgets/base",
          "model_name": "LayoutModel",
          "model_module_version": "1.2.0",
          "state": {
            "_model_module": "@jupyter-widgets/base",
            "_model_module_version": "1.2.0",
            "_model_name": "LayoutModel",
            "_view_count": null,
            "_view_module": "@jupyter-widgets/base",
            "_view_module_version": "1.2.0",
            "_view_name": "LayoutView",
            "align_content": null,
            "align_items": null,
            "align_self": null,
            "border": null,
            "bottom": null,
            "display": null,
            "flex": null,
            "flex_flow": null,
            "grid_area": null,
            "grid_auto_columns": null,
            "grid_auto_flow": null,
            "grid_auto_rows": null,
            "grid_column": null,
            "grid_gap": null,
            "grid_row": null,
            "grid_template_areas": null,
            "grid_template_columns": null,
            "grid_template_rows": null,
            "height": null,
            "justify_content": null,
            "justify_items": null,
            "left": null,
            "margin": null,
            "max_height": null,
            "max_width": null,
            "min_height": null,
            "min_width": null,
            "object_fit": null,
            "object_position": null,
            "order": null,
            "overflow": null,
            "overflow_x": null,
            "overflow_y": null,
            "padding": null,
            "right": null,
            "top": null,
            "visibility": null,
            "width": null
          }
        },
        "082d071da35d4d25926b9ff43bfb1fbc": {
          "model_module": "@jupyter-widgets/controls",
          "model_name": "DescriptionStyleModel",
          "model_module_version": "1.5.0",
          "state": {
            "_model_module": "@jupyter-widgets/controls",
            "_model_module_version": "1.5.0",
            "_model_name": "DescriptionStyleModel",
            "_view_count": null,
            "_view_module": "@jupyter-widgets/base",
            "_view_module_version": "1.2.0",
            "_view_name": "StyleView",
            "description_width": ""
          }
        },
        "14e2f78f97a34fdb94a752636395d33c": {
          "model_module": "@jupyter-widgets/controls",
          "model_name": "HBoxModel",
          "model_module_version": "1.5.0",
          "state": {
            "_dom_classes": [],
            "_model_module": "@jupyter-widgets/controls",
            "_model_module_version": "1.5.0",
            "_model_name": "HBoxModel",
            "_view_count": null,
            "_view_module": "@jupyter-widgets/controls",
            "_view_module_version": "1.5.0",
            "_view_name": "HBoxView",
            "box_style": "",
            "children": [
              "IPY_MODEL_0d25a5c852e745cf8308c230219022b5",
              "IPY_MODEL_43b78df8e7544a46b95d24752b573e0e",
              "IPY_MODEL_04ae9ffdd8e247d1b050774e7b12f6f8"
            ],
            "layout": "IPY_MODEL_1f9997bd44b3464897277357f16470c2"
          }
        },
        "0d25a5c852e745cf8308c230219022b5": {
          "model_module": "@jupyter-widgets/controls",
          "model_name": "HTMLModel",
          "model_module_version": "1.5.0",
          "state": {
            "_dom_classes": [],
            "_model_module": "@jupyter-widgets/controls",
            "_model_module_version": "1.5.0",
            "_model_name": "HTMLModel",
            "_view_count": null,
            "_view_module": "@jupyter-widgets/controls",
            "_view_module_version": "1.5.0",
            "_view_name": "HTMLView",
            "description": "",
            "description_tooltip": null,
            "layout": "IPY_MODEL_6ae394cecb084160b87a00951197e766",
            "placeholder": "​",
            "style": "IPY_MODEL_4f122e7292ba44dd8b43bbfcc2ba80cb",
            "value": "100%"
          }
        },
        "43b78df8e7544a46b95d24752b573e0e": {
          "model_module": "@jupyter-widgets/controls",
          "model_name": "FloatProgressModel",
          "model_module_version": "1.5.0",
          "state": {
            "_dom_classes": [],
            "_model_module": "@jupyter-widgets/controls",
            "_model_module_version": "1.5.0",
            "_model_name": "FloatProgressModel",
            "_view_count": null,
            "_view_module": "@jupyter-widgets/controls",
            "_view_module_version": "1.5.0",
            "_view_name": "ProgressView",
            "bar_style": "success",
            "description": "",
            "description_tooltip": null,
            "layout": "IPY_MODEL_ae10c924834248a19d86aa759be50f73",
            "max": 29515,
            "min": 0,
            "orientation": "horizontal",
            "style": "IPY_MODEL_a8a4b6b4f2624d46b50b11392ce10f90",
            "value": 29515
          }
        },
        "04ae9ffdd8e247d1b050774e7b12f6f8": {
          "model_module": "@jupyter-widgets/controls",
          "model_name": "HTMLModel",
          "model_module_version": "1.5.0",
          "state": {
            "_dom_classes": [],
            "_model_module": "@jupyter-widgets/controls",
            "_model_module_version": "1.5.0",
            "_model_name": "HTMLModel",
            "_view_count": null,
            "_view_module": "@jupyter-widgets/controls",
            "_view_module_version": "1.5.0",
            "_view_name": "HTMLView",
            "description": "",
            "description_tooltip": null,
            "layout": "IPY_MODEL_808a6a3f9bfd47f4a97e7d3638a7e31b",
            "placeholder": "​",
            "style": "IPY_MODEL_cbf546103af34d41975a270f28c799fa",
            "value": " 29515/29515 [00:00&lt;00:00, 144711.65it/s]"
          }
        },
        "1f9997bd44b3464897277357f16470c2": {
          "model_module": "@jupyter-widgets/base",
          "model_name": "LayoutModel",
          "model_module_version": "1.2.0",
          "state": {
            "_model_module": "@jupyter-widgets/base",
            "_model_module_version": "1.2.0",
            "_model_name": "LayoutModel",
            "_view_count": null,
            "_view_module": "@jupyter-widgets/base",
            "_view_module_version": "1.2.0",
            "_view_name": "LayoutView",
            "align_content": null,
            "align_items": null,
            "align_self": null,
            "border": null,
            "bottom": null,
            "display": null,
            "flex": null,
            "flex_flow": null,
            "grid_area": null,
            "grid_auto_columns": null,
            "grid_auto_flow": null,
            "grid_auto_rows": null,
            "grid_column": null,
            "grid_gap": null,
            "grid_row": null,
            "grid_template_areas": null,
            "grid_template_columns": null,
            "grid_template_rows": null,
            "height": null,
            "justify_content": null,
            "justify_items": null,
            "left": null,
            "margin": null,
            "max_height": null,
            "max_width": null,
            "min_height": null,
            "min_width": null,
            "object_fit": null,
            "object_position": null,
            "order": null,
            "overflow": null,
            "overflow_x": null,
            "overflow_y": null,
            "padding": null,
            "right": null,
            "top": null,
            "visibility": null,
            "width": null
          }
        },
        "6ae394cecb084160b87a00951197e766": {
          "model_module": "@jupyter-widgets/base",
          "model_name": "LayoutModel",
          "model_module_version": "1.2.0",
          "state": {
            "_model_module": "@jupyter-widgets/base",
            "_model_module_version": "1.2.0",
            "_model_name": "LayoutModel",
            "_view_count": null,
            "_view_module": "@jupyter-widgets/base",
            "_view_module_version": "1.2.0",
            "_view_name": "LayoutView",
            "align_content": null,
            "align_items": null,
            "align_self": null,
            "border": null,
            "bottom": null,
            "display": null,
            "flex": null,
            "flex_flow": null,
            "grid_area": null,
            "grid_auto_columns": null,
            "grid_auto_flow": null,
            "grid_auto_rows": null,
            "grid_column": null,
            "grid_gap": null,
            "grid_row": null,
            "grid_template_areas": null,
            "grid_template_columns": null,
            "grid_template_rows": null,
            "height": null,
            "justify_content": null,
            "justify_items": null,
            "left": null,
            "margin": null,
            "max_height": null,
            "max_width": null,
            "min_height": null,
            "min_width": null,
            "object_fit": null,
            "object_position": null,
            "order": null,
            "overflow": null,
            "overflow_x": null,
            "overflow_y": null,
            "padding": null,
            "right": null,
            "top": null,
            "visibility": null,
            "width": null
          }
        },
        "4f122e7292ba44dd8b43bbfcc2ba80cb": {
          "model_module": "@jupyter-widgets/controls",
          "model_name": "DescriptionStyleModel",
          "model_module_version": "1.5.0",
          "state": {
            "_model_module": "@jupyter-widgets/controls",
            "_model_module_version": "1.5.0",
            "_model_name": "DescriptionStyleModel",
            "_view_count": null,
            "_view_module": "@jupyter-widgets/base",
            "_view_module_version": "1.2.0",
            "_view_name": "StyleView",
            "description_width": ""
          }
        },
        "ae10c924834248a19d86aa759be50f73": {
          "model_module": "@jupyter-widgets/base",
          "model_name": "LayoutModel",
          "model_module_version": "1.2.0",
          "state": {
            "_model_module": "@jupyter-widgets/base",
            "_model_module_version": "1.2.0",
            "_model_name": "LayoutModel",
            "_view_count": null,
            "_view_module": "@jupyter-widgets/base",
            "_view_module_version": "1.2.0",
            "_view_name": "LayoutView",
            "align_content": null,
            "align_items": null,
            "align_self": null,
            "border": null,
            "bottom": null,
            "display": null,
            "flex": null,
            "flex_flow": null,
            "grid_area": null,
            "grid_auto_columns": null,
            "grid_auto_flow": null,
            "grid_auto_rows": null,
            "grid_column": null,
            "grid_gap": null,
            "grid_row": null,
            "grid_template_areas": null,
            "grid_template_columns": null,
            "grid_template_rows": null,
            "height": null,
            "justify_content": null,
            "justify_items": null,
            "left": null,
            "margin": null,
            "max_height": null,
            "max_width": null,
            "min_height": null,
            "min_width": null,
            "object_fit": null,
            "object_position": null,
            "order": null,
            "overflow": null,
            "overflow_x": null,
            "overflow_y": null,
            "padding": null,
            "right": null,
            "top": null,
            "visibility": null,
            "width": null
          }
        },
        "a8a4b6b4f2624d46b50b11392ce10f90": {
          "model_module": "@jupyter-widgets/controls",
          "model_name": "ProgressStyleModel",
          "model_module_version": "1.5.0",
          "state": {
            "_model_module": "@jupyter-widgets/controls",
            "_model_module_version": "1.5.0",
            "_model_name": "ProgressStyleModel",
            "_view_count": null,
            "_view_module": "@jupyter-widgets/base",
            "_view_module_version": "1.2.0",
            "_view_name": "StyleView",
            "bar_color": null,
            "description_width": ""
          }
        },
        "808a6a3f9bfd47f4a97e7d3638a7e31b": {
          "model_module": "@jupyter-widgets/base",
          "model_name": "LayoutModel",
          "model_module_version": "1.2.0",
          "state": {
            "_model_module": "@jupyter-widgets/base",
            "_model_module_version": "1.2.0",
            "_model_name": "LayoutModel",
            "_view_count": null,
            "_view_module": "@jupyter-widgets/base",
            "_view_module_version": "1.2.0",
            "_view_name": "LayoutView",
            "align_content": null,
            "align_items": null,
            "align_self": null,
            "border": null,
            "bottom": null,
            "display": null,
            "flex": null,
            "flex_flow": null,
            "grid_area": null,
            "grid_auto_columns": null,
            "grid_auto_flow": null,
            "grid_auto_rows": null,
            "grid_column": null,
            "grid_gap": null,
            "grid_row": null,
            "grid_template_areas": null,
            "grid_template_columns": null,
            "grid_template_rows": null,
            "height": null,
            "justify_content": null,
            "justify_items": null,
            "left": null,
            "margin": null,
            "max_height": null,
            "max_width": null,
            "min_height": null,
            "min_width": null,
            "object_fit": null,
            "object_position": null,
            "order": null,
            "overflow": null,
            "overflow_x": null,
            "overflow_y": null,
            "padding": null,
            "right": null,
            "top": null,
            "visibility": null,
            "width": null
          }
        },
        "cbf546103af34d41975a270f28c799fa": {
          "model_module": "@jupyter-widgets/controls",
          "model_name": "DescriptionStyleModel",
          "model_module_version": "1.5.0",
          "state": {
            "_model_module": "@jupyter-widgets/controls",
            "_model_module_version": "1.5.0",
            "_model_name": "DescriptionStyleModel",
            "_view_count": null,
            "_view_module": "@jupyter-widgets/base",
            "_view_module_version": "1.2.0",
            "_view_name": "StyleView",
            "description_width": ""
          }
        },
        "3dc185c7c6d3489f9708d6a48697ef36": {
          "model_module": "@jupyter-widgets/controls",
          "model_name": "HBoxModel",
          "model_module_version": "1.5.0",
          "state": {
            "_dom_classes": [],
            "_model_module": "@jupyter-widgets/controls",
            "_model_module_version": "1.5.0",
            "_model_name": "HBoxModel",
            "_view_count": null,
            "_view_module": "@jupyter-widgets/controls",
            "_view_module_version": "1.5.0",
            "_view_name": "HBoxView",
            "box_style": "",
            "children": [
              "IPY_MODEL_867ac9e6df0a48c1a1e2b6aa9daf9a4c",
              "IPY_MODEL_614cd751d9d74ae594df2b29062c72f7",
              "IPY_MODEL_e3267e733bff454283ae33de1a8ae116"
            ],
            "layout": "IPY_MODEL_d69523261c3b4555bbc1d889b70b7ede"
          }
        },
        "867ac9e6df0a48c1a1e2b6aa9daf9a4c": {
          "model_module": "@jupyter-widgets/controls",
          "model_name": "HTMLModel",
          "model_module_version": "1.5.0",
          "state": {
            "_dom_classes": [],
            "_model_module": "@jupyter-widgets/controls",
            "_model_module_version": "1.5.0",
            "_model_name": "HTMLModel",
            "_view_count": null,
            "_view_module": "@jupyter-widgets/controls",
            "_view_module_version": "1.5.0",
            "_view_name": "HTMLView",
            "description": "",
            "description_tooltip": null,
            "layout": "IPY_MODEL_cd2cfe515918416780fd71878683842c",
            "placeholder": "​",
            "style": "IPY_MODEL_8ea888449b024d009c64dbbaf587f8e1",
            "value": "100%"
          }
        },
        "614cd751d9d74ae594df2b29062c72f7": {
          "model_module": "@jupyter-widgets/controls",
          "model_name": "FloatProgressModel",
          "model_module_version": "1.5.0",
          "state": {
            "_dom_classes": [],
            "_model_module": "@jupyter-widgets/controls",
            "_model_module_version": "1.5.0",
            "_model_name": "FloatProgressModel",
            "_view_count": null,
            "_view_module": "@jupyter-widgets/controls",
            "_view_module_version": "1.5.0",
            "_view_name": "ProgressView",
            "bar_style": "success",
            "description": "",
            "description_tooltip": null,
            "layout": "IPY_MODEL_d394f16d353b4e52929247093906784e",
            "max": 4422102,
            "min": 0,
            "orientation": "horizontal",
            "style": "IPY_MODEL_81feb76d3fa942fd9f2d0f7cc0d9645d",
            "value": 4422102
          }
        },
        "e3267e733bff454283ae33de1a8ae116": {
          "model_module": "@jupyter-widgets/controls",
          "model_name": "HTMLModel",
          "model_module_version": "1.5.0",
          "state": {
            "_dom_classes": [],
            "_model_module": "@jupyter-widgets/controls",
            "_model_module_version": "1.5.0",
            "_model_name": "HTMLModel",
            "_view_count": null,
            "_view_module": "@jupyter-widgets/controls",
            "_view_module_version": "1.5.0",
            "_view_name": "HTMLView",
            "description": "",
            "description_tooltip": null,
            "layout": "IPY_MODEL_d70de836a94f48e8ae1810c75f9050c4",
            "placeholder": "​",
            "style": "IPY_MODEL_6a16b45fbe9746deb47d47d02836a6a8",
            "value": " 4422102/4422102 [00:01&lt;00:00, 4511569.96it/s]"
          }
        },
        "d69523261c3b4555bbc1d889b70b7ede": {
          "model_module": "@jupyter-widgets/base",
          "model_name": "LayoutModel",
          "model_module_version": "1.2.0",
          "state": {
            "_model_module": "@jupyter-widgets/base",
            "_model_module_version": "1.2.0",
            "_model_name": "LayoutModel",
            "_view_count": null,
            "_view_module": "@jupyter-widgets/base",
            "_view_module_version": "1.2.0",
            "_view_name": "LayoutView",
            "align_content": null,
            "align_items": null,
            "align_self": null,
            "border": null,
            "bottom": null,
            "display": null,
            "flex": null,
            "flex_flow": null,
            "grid_area": null,
            "grid_auto_columns": null,
            "grid_auto_flow": null,
            "grid_auto_rows": null,
            "grid_column": null,
            "grid_gap": null,
            "grid_row": null,
            "grid_template_areas": null,
            "grid_template_columns": null,
            "grid_template_rows": null,
            "height": null,
            "justify_content": null,
            "justify_items": null,
            "left": null,
            "margin": null,
            "max_height": null,
            "max_width": null,
            "min_height": null,
            "min_width": null,
            "object_fit": null,
            "object_position": null,
            "order": null,
            "overflow": null,
            "overflow_x": null,
            "overflow_y": null,
            "padding": null,
            "right": null,
            "top": null,
            "visibility": null,
            "width": null
          }
        },
        "cd2cfe515918416780fd71878683842c": {
          "model_module": "@jupyter-widgets/base",
          "model_name": "LayoutModel",
          "model_module_version": "1.2.0",
          "state": {
            "_model_module": "@jupyter-widgets/base",
            "_model_module_version": "1.2.0",
            "_model_name": "LayoutModel",
            "_view_count": null,
            "_view_module": "@jupyter-widgets/base",
            "_view_module_version": "1.2.0",
            "_view_name": "LayoutView",
            "align_content": null,
            "align_items": null,
            "align_self": null,
            "border": null,
            "bottom": null,
            "display": null,
            "flex": null,
            "flex_flow": null,
            "grid_area": null,
            "grid_auto_columns": null,
            "grid_auto_flow": null,
            "grid_auto_rows": null,
            "grid_column": null,
            "grid_gap": null,
            "grid_row": null,
            "grid_template_areas": null,
            "grid_template_columns": null,
            "grid_template_rows": null,
            "height": null,
            "justify_content": null,
            "justify_items": null,
            "left": null,
            "margin": null,
            "max_height": null,
            "max_width": null,
            "min_height": null,
            "min_width": null,
            "object_fit": null,
            "object_position": null,
            "order": null,
            "overflow": null,
            "overflow_x": null,
            "overflow_y": null,
            "padding": null,
            "right": null,
            "top": null,
            "visibility": null,
            "width": null
          }
        },
        "8ea888449b024d009c64dbbaf587f8e1": {
          "model_module": "@jupyter-widgets/controls",
          "model_name": "DescriptionStyleModel",
          "model_module_version": "1.5.0",
          "state": {
            "_model_module": "@jupyter-widgets/controls",
            "_model_module_version": "1.5.0",
            "_model_name": "DescriptionStyleModel",
            "_view_count": null,
            "_view_module": "@jupyter-widgets/base",
            "_view_module_version": "1.2.0",
            "_view_name": "StyleView",
            "description_width": ""
          }
        },
        "d394f16d353b4e52929247093906784e": {
          "model_module": "@jupyter-widgets/base",
          "model_name": "LayoutModel",
          "model_module_version": "1.2.0",
          "state": {
            "_model_module": "@jupyter-widgets/base",
            "_model_module_version": "1.2.0",
            "_model_name": "LayoutModel",
            "_view_count": null,
            "_view_module": "@jupyter-widgets/base",
            "_view_module_version": "1.2.0",
            "_view_name": "LayoutView",
            "align_content": null,
            "align_items": null,
            "align_self": null,
            "border": null,
            "bottom": null,
            "display": null,
            "flex": null,
            "flex_flow": null,
            "grid_area": null,
            "grid_auto_columns": null,
            "grid_auto_flow": null,
            "grid_auto_rows": null,
            "grid_column": null,
            "grid_gap": null,
            "grid_row": null,
            "grid_template_areas": null,
            "grid_template_columns": null,
            "grid_template_rows": null,
            "height": null,
            "justify_content": null,
            "justify_items": null,
            "left": null,
            "margin": null,
            "max_height": null,
            "max_width": null,
            "min_height": null,
            "min_width": null,
            "object_fit": null,
            "object_position": null,
            "order": null,
            "overflow": null,
            "overflow_x": null,
            "overflow_y": null,
            "padding": null,
            "right": null,
            "top": null,
            "visibility": null,
            "width": null
          }
        },
        "81feb76d3fa942fd9f2d0f7cc0d9645d": {
          "model_module": "@jupyter-widgets/controls",
          "model_name": "ProgressStyleModel",
          "model_module_version": "1.5.0",
          "state": {
            "_model_module": "@jupyter-widgets/controls",
            "_model_module_version": "1.5.0",
            "_model_name": "ProgressStyleModel",
            "_view_count": null,
            "_view_module": "@jupyter-widgets/base",
            "_view_module_version": "1.2.0",
            "_view_name": "StyleView",
            "bar_color": null,
            "description_width": ""
          }
        },
        "d70de836a94f48e8ae1810c75f9050c4": {
          "model_module": "@jupyter-widgets/base",
          "model_name": "LayoutModel",
          "model_module_version": "1.2.0",
          "state": {
            "_model_module": "@jupyter-widgets/base",
            "_model_module_version": "1.2.0",
            "_model_name": "LayoutModel",
            "_view_count": null,
            "_view_module": "@jupyter-widgets/base",
            "_view_module_version": "1.2.0",
            "_view_name": "LayoutView",
            "align_content": null,
            "align_items": null,
            "align_self": null,
            "border": null,
            "bottom": null,
            "display": null,
            "flex": null,
            "flex_flow": null,
            "grid_area": null,
            "grid_auto_columns": null,
            "grid_auto_flow": null,
            "grid_auto_rows": null,
            "grid_column": null,
            "grid_gap": null,
            "grid_row": null,
            "grid_template_areas": null,
            "grid_template_columns": null,
            "grid_template_rows": null,
            "height": null,
            "justify_content": null,
            "justify_items": null,
            "left": null,
            "margin": null,
            "max_height": null,
            "max_width": null,
            "min_height": null,
            "min_width": null,
            "object_fit": null,
            "object_position": null,
            "order": null,
            "overflow": null,
            "overflow_x": null,
            "overflow_y": null,
            "padding": null,
            "right": null,
            "top": null,
            "visibility": null,
            "width": null
          }
        },
        "6a16b45fbe9746deb47d47d02836a6a8": {
          "model_module": "@jupyter-widgets/controls",
          "model_name": "DescriptionStyleModel",
          "model_module_version": "1.5.0",
          "state": {
            "_model_module": "@jupyter-widgets/controls",
            "_model_module_version": "1.5.0",
            "_model_name": "DescriptionStyleModel",
            "_view_count": null,
            "_view_module": "@jupyter-widgets/base",
            "_view_module_version": "1.2.0",
            "_view_name": "StyleView",
            "description_width": ""
          }
        },
        "7876ca3f73be493b8687fa35c7a6f33d": {
          "model_module": "@jupyter-widgets/controls",
          "model_name": "HBoxModel",
          "model_module_version": "1.5.0",
          "state": {
            "_dom_classes": [],
            "_model_module": "@jupyter-widgets/controls",
            "_model_module_version": "1.5.0",
            "_model_name": "HBoxModel",
            "_view_count": null,
            "_view_module": "@jupyter-widgets/controls",
            "_view_module_version": "1.5.0",
            "_view_name": "HBoxView",
            "box_style": "",
            "children": [
              "IPY_MODEL_bd76f597d2cb4200ab049d736633bc28",
              "IPY_MODEL_fc83dad01c9d479ba36eb7aefa68c797",
              "IPY_MODEL_c17b231f395c4d6897abde80339c6841"
            ],
            "layout": "IPY_MODEL_5fec91115dad4f0ba28a0cb8fa7909ac"
          }
        },
        "bd76f597d2cb4200ab049d736633bc28": {
          "model_module": "@jupyter-widgets/controls",
          "model_name": "HTMLModel",
          "model_module_version": "1.5.0",
          "state": {
            "_dom_classes": [],
            "_model_module": "@jupyter-widgets/controls",
            "_model_module_version": "1.5.0",
            "_model_name": "HTMLModel",
            "_view_count": null,
            "_view_module": "@jupyter-widgets/controls",
            "_view_module_version": "1.5.0",
            "_view_name": "HTMLView",
            "description": "",
            "description_tooltip": null,
            "layout": "IPY_MODEL_71bc31852f3d4afcbf22ed64efec61c8",
            "placeholder": "​",
            "style": "IPY_MODEL_9e723c768a644fea99f8b8c4c9b423eb",
            "value": "100%"
          }
        },
        "fc83dad01c9d479ba36eb7aefa68c797": {
          "model_module": "@jupyter-widgets/controls",
          "model_name": "FloatProgressModel",
          "model_module_version": "1.5.0",
          "state": {
            "_dom_classes": [],
            "_model_module": "@jupyter-widgets/controls",
            "_model_module_version": "1.5.0",
            "_model_name": "FloatProgressModel",
            "_view_count": null,
            "_view_module": "@jupyter-widgets/controls",
            "_view_module_version": "1.5.0",
            "_view_name": "ProgressView",
            "bar_style": "success",
            "description": "",
            "description_tooltip": null,
            "layout": "IPY_MODEL_301af1a871ca471bb97318463f02add5",
            "max": 5148,
            "min": 0,
            "orientation": "horizontal",
            "style": "IPY_MODEL_5be87ed8a8854345bcca8484d597728d",
            "value": 5148
          }
        },
        "c17b231f395c4d6897abde80339c6841": {
          "model_module": "@jupyter-widgets/controls",
          "model_name": "HTMLModel",
          "model_module_version": "1.5.0",
          "state": {
            "_dom_classes": [],
            "_model_module": "@jupyter-widgets/controls",
            "_model_module_version": "1.5.0",
            "_model_name": "HTMLModel",
            "_view_count": null,
            "_view_module": "@jupyter-widgets/controls",
            "_view_module_version": "1.5.0",
            "_view_name": "HTMLView",
            "description": "",
            "description_tooltip": null,
            "layout": "IPY_MODEL_a63cd5125c5d4a3784a8bb41fa41b629",
            "placeholder": "​",
            "style": "IPY_MODEL_8ce6ac68b80b4b2093c807035251a590",
            "value": " 5148/5148 [00:00&lt;00:00, 255218.81it/s]"
          }
        },
        "5fec91115dad4f0ba28a0cb8fa7909ac": {
          "model_module": "@jupyter-widgets/base",
          "model_name": "LayoutModel",
          "model_module_version": "1.2.0",
          "state": {
            "_model_module": "@jupyter-widgets/base",
            "_model_module_version": "1.2.0",
            "_model_name": "LayoutModel",
            "_view_count": null,
            "_view_module": "@jupyter-widgets/base",
            "_view_module_version": "1.2.0",
            "_view_name": "LayoutView",
            "align_content": null,
            "align_items": null,
            "align_self": null,
            "border": null,
            "bottom": null,
            "display": null,
            "flex": null,
            "flex_flow": null,
            "grid_area": null,
            "grid_auto_columns": null,
            "grid_auto_flow": null,
            "grid_auto_rows": null,
            "grid_column": null,
            "grid_gap": null,
            "grid_row": null,
            "grid_template_areas": null,
            "grid_template_columns": null,
            "grid_template_rows": null,
            "height": null,
            "justify_content": null,
            "justify_items": null,
            "left": null,
            "margin": null,
            "max_height": null,
            "max_width": null,
            "min_height": null,
            "min_width": null,
            "object_fit": null,
            "object_position": null,
            "order": null,
            "overflow": null,
            "overflow_x": null,
            "overflow_y": null,
            "padding": null,
            "right": null,
            "top": null,
            "visibility": null,
            "width": null
          }
        },
        "71bc31852f3d4afcbf22ed64efec61c8": {
          "model_module": "@jupyter-widgets/base",
          "model_name": "LayoutModel",
          "model_module_version": "1.2.0",
          "state": {
            "_model_module": "@jupyter-widgets/base",
            "_model_module_version": "1.2.0",
            "_model_name": "LayoutModel",
            "_view_count": null,
            "_view_module": "@jupyter-widgets/base",
            "_view_module_version": "1.2.0",
            "_view_name": "LayoutView",
            "align_content": null,
            "align_items": null,
            "align_self": null,
            "border": null,
            "bottom": null,
            "display": null,
            "flex": null,
            "flex_flow": null,
            "grid_area": null,
            "grid_auto_columns": null,
            "grid_auto_flow": null,
            "grid_auto_rows": null,
            "grid_column": null,
            "grid_gap": null,
            "grid_row": null,
            "grid_template_areas": null,
            "grid_template_columns": null,
            "grid_template_rows": null,
            "height": null,
            "justify_content": null,
            "justify_items": null,
            "left": null,
            "margin": null,
            "max_height": null,
            "max_width": null,
            "min_height": null,
            "min_width": null,
            "object_fit": null,
            "object_position": null,
            "order": null,
            "overflow": null,
            "overflow_x": null,
            "overflow_y": null,
            "padding": null,
            "right": null,
            "top": null,
            "visibility": null,
            "width": null
          }
        },
        "9e723c768a644fea99f8b8c4c9b423eb": {
          "model_module": "@jupyter-widgets/controls",
          "model_name": "DescriptionStyleModel",
          "model_module_version": "1.5.0",
          "state": {
            "_model_module": "@jupyter-widgets/controls",
            "_model_module_version": "1.5.0",
            "_model_name": "DescriptionStyleModel",
            "_view_count": null,
            "_view_module": "@jupyter-widgets/base",
            "_view_module_version": "1.2.0",
            "_view_name": "StyleView",
            "description_width": ""
          }
        },
        "301af1a871ca471bb97318463f02add5": {
          "model_module": "@jupyter-widgets/base",
          "model_name": "LayoutModel",
          "model_module_version": "1.2.0",
          "state": {
            "_model_module": "@jupyter-widgets/base",
            "_model_module_version": "1.2.0",
            "_model_name": "LayoutModel",
            "_view_count": null,
            "_view_module": "@jupyter-widgets/base",
            "_view_module_version": "1.2.0",
            "_view_name": "LayoutView",
            "align_content": null,
            "align_items": null,
            "align_self": null,
            "border": null,
            "bottom": null,
            "display": null,
            "flex": null,
            "flex_flow": null,
            "grid_area": null,
            "grid_auto_columns": null,
            "grid_auto_flow": null,
            "grid_auto_rows": null,
            "grid_column": null,
            "grid_gap": null,
            "grid_row": null,
            "grid_template_areas": null,
            "grid_template_columns": null,
            "grid_template_rows": null,
            "height": null,
            "justify_content": null,
            "justify_items": null,
            "left": null,
            "margin": null,
            "max_height": null,
            "max_width": null,
            "min_height": null,
            "min_width": null,
            "object_fit": null,
            "object_position": null,
            "order": null,
            "overflow": null,
            "overflow_x": null,
            "overflow_y": null,
            "padding": null,
            "right": null,
            "top": null,
            "visibility": null,
            "width": null
          }
        },
        "5be87ed8a8854345bcca8484d597728d": {
          "model_module": "@jupyter-widgets/controls",
          "model_name": "ProgressStyleModel",
          "model_module_version": "1.5.0",
          "state": {
            "_model_module": "@jupyter-widgets/controls",
            "_model_module_version": "1.5.0",
            "_model_name": "ProgressStyleModel",
            "_view_count": null,
            "_view_module": "@jupyter-widgets/base",
            "_view_module_version": "1.2.0",
            "_view_name": "StyleView",
            "bar_color": null,
            "description_width": ""
          }
        },
        "a63cd5125c5d4a3784a8bb41fa41b629": {
          "model_module": "@jupyter-widgets/base",
          "model_name": "LayoutModel",
          "model_module_version": "1.2.0",
          "state": {
            "_model_module": "@jupyter-widgets/base",
            "_model_module_version": "1.2.0",
            "_model_name": "LayoutModel",
            "_view_count": null,
            "_view_module": "@jupyter-widgets/base",
            "_view_module_version": "1.2.0",
            "_view_name": "LayoutView",
            "align_content": null,
            "align_items": null,
            "align_self": null,
            "border": null,
            "bottom": null,
            "display": null,
            "flex": null,
            "flex_flow": null,
            "grid_area": null,
            "grid_auto_columns": null,
            "grid_auto_flow": null,
            "grid_auto_rows": null,
            "grid_column": null,
            "grid_gap": null,
            "grid_row": null,
            "grid_template_areas": null,
            "grid_template_columns": null,
            "grid_template_rows": null,
            "height": null,
            "justify_content": null,
            "justify_items": null,
            "left": null,
            "margin": null,
            "max_height": null,
            "max_width": null,
            "min_height": null,
            "min_width": null,
            "object_fit": null,
            "object_position": null,
            "order": null,
            "overflow": null,
            "overflow_x": null,
            "overflow_y": null,
            "padding": null,
            "right": null,
            "top": null,
            "visibility": null,
            "width": null
          }
        },
        "8ce6ac68b80b4b2093c807035251a590": {
          "model_module": "@jupyter-widgets/controls",
          "model_name": "DescriptionStyleModel",
          "model_module_version": "1.5.0",
          "state": {
            "_model_module": "@jupyter-widgets/controls",
            "_model_module_version": "1.5.0",
            "_model_name": "DescriptionStyleModel",
            "_view_count": null,
            "_view_module": "@jupyter-widgets/base",
            "_view_module_version": "1.2.0",
            "_view_name": "StyleView",
            "description_width": ""
          }
        }
      }
    }
  },
  "cells": [
    {
      "cell_type": "markdown",
      "source": [
        "#Deep Learning Pipeline\n",
        "- Data\n",
        "- Model\n",
        "- Loss\n",
        "- Training Process"
      ],
      "metadata": {
        "id": "uWlks_PZV0hw"
      }
    },
    {
      "cell_type": "markdown",
      "source": [
        "#Tensor"
      ],
      "metadata": {
        "id": "WHohWreYVx-5"
      }
    },
    {
      "cell_type": "code",
      "execution_count": 2,
      "metadata": {
        "id": "Lqsm1lyFVcUZ"
      },
      "outputs": [],
      "source": [
        "# To use PyTorch\n",
        "import torch"
      ]
    },
    {
      "cell_type": "code",
      "source": [
        "# How to create tensor\n",
        "tensor = torch.tensor(data=[[1, 2, 3], [4, 5, 6]], dtype=torch.float, device='cpu', requires_grad=False)\n",
        "\n",
        "# dtype 옵션 지정하는 이유 => 연산 오류 막기 위함\n",
        "# device 또한 모델이 실행될 위치와 일정하게 맞춰주어야 함(cpu, gpu)\n",
        "\n",
        "\n",
        "print(f'Tensor from List\\n{tensor}')"
      ],
      "metadata": {
        "colab": {
          "base_uri": "https://localhost:8080/"
        },
        "id": "KZrsUEZyXPTV",
        "outputId": "26de953a-efb4-4b0d-8edf-ca05c8f2aee2"
      },
      "execution_count": 3,
      "outputs": [
        {
          "output_type": "stream",
          "name": "stdout",
          "text": [
            "Tensor from List\n",
            "tensor([[1., 2., 3.],\n",
            "        [4., 5., 6.]])\n"
          ]
        }
      ]
    },
    {
      "cell_type": "code",
      "source": [
        "# How to create special tensor 1\n",
        "tensor_ones = torch.ones_like(input=tensor) #2*3의 Tensor\n",
        "tensor_rand = torch.rand_like(input=tensor)\n",
        "\n",
        "print(f'Ones Tensor\\n{tensor_ones}\\n')\n",
        "print(f'Random Tensor\\n{tensor_rand}')"
      ],
      "metadata": {
        "colab": {
          "base_uri": "https://localhost:8080/"
        },
        "id": "TOAYHqcHX9Iy",
        "outputId": "2bbed426-1aef-47f0-efc7-733329947ab0"
      },
      "execution_count": 4,
      "outputs": [
        {
          "output_type": "stream",
          "name": "stdout",
          "text": [
            "Ones Tensor\n",
            "tensor([[1., 1., 1.],\n",
            "        [1., 1., 1.]])\n",
            "\n",
            "Random Tensor\n",
            "tensor([[0.1433, 0.3065, 0.5426],\n",
            "        [0.3711, 0.4122, 0.9354]])\n"
          ]
        }
      ]
    },
    {
      "cell_type": "code",
      "source": [
        "# How to create special tensor 2\n",
        "shape = (2, 3,)\n",
        "# Masking시에 사용가능\n",
        "\n",
        "ones_tensor = torch.ones(shape) # 구성 요소가 모두 1\n",
        "rand_tensor = torch.rand(shape) # Random 값으로 채워넣는다\n",
        "zeros_tensor = torch.zeros(shape) # 구성 요소가 모두 0\n",
        "\n",
        "\n",
        "print(f'Ones Tensor\\n{ones_tensor}\\n')\n",
        "print(f'Random Tensor\\n{rand_tensor}\\n')\n",
        "print(f'Zeros Tensor\\n{zeros_tensor}')"
      ],
      "metadata": {
        "colab": {
          "base_uri": "https://localhost:8080/"
        },
        "id": "SfSVHEWKYhKk",
        "outputId": "b19656fb-1f2d-4681-d737-ac27991cf8e5"
      },
      "execution_count": 6,
      "outputs": [
        {
          "output_type": "stream",
          "name": "stdout",
          "text": [
            "Ones Tensor\n",
            "tensor([[1., 1., 1.],\n",
            "        [1., 1., 1.]])\n",
            "\n",
            "Random Tensor\n",
            "tensor([[0.9823, 0.7276, 0.1201],\n",
            "        [0.4058, 0.5264, 0.7355]])\n",
            "\n",
            "Zeros Tensor\n",
            "tensor([[0., 0., 0.],\n",
            "        [0., 0., 0.]])\n"
          ]
        }
      ]
    },
    {
      "cell_type": "code",
      "source": [
        "# Tensor's Attribute\n",
        "tensor = torch.rand(3, 4)\n",
        "\n",
        "print(f'Shape of tensor: {tensor.shape}') # 차원을 파악하는 것이 중요함\n",
        "print(f'Dtype of tensor: {tensor.dtype}')\n",
        "print(f'Device of tensor: {tensor.device}')"
      ],
      "metadata": {
        "colab": {
          "base_uri": "https://localhost:8080/"
        },
        "id": "HGMD4zXcZEFc",
        "outputId": "a7083262-5800-4815-de4b-d1fa83bd5374"
      },
      "execution_count": 7,
      "outputs": [
        {
          "output_type": "stream",
          "name": "stdout",
          "text": [
            "Shape of tensor: torch.Size([3, 4])\n",
            "Dtype of tensor: torch.float32\n",
            "Device of tensor: cpu\n"
          ]
        }
      ]
    },
    {
      "cell_type": "code",
      "source": [
        "# How to combine tensors\n",
        "tensor = torch.zeros((3, 2)) # 텐서의 크기 \n",
        "\n",
        "#concatenation\n",
        "tensor_cat0 = torch.cat([tensor, tensor, tensor], dim=0) \n",
        "tensor_cat1 = torch.cat([tensor, tensor], dim=1)\n",
        "\n",
        "#Stack\n",
        "tensor_stack = torch.stack([tensor, tensor, tensor, tensor]) # dim의 default : 0\n",
        "\n",
        "print(f'concat dim=0: {tensor_cat0.shape}')\n",
        "print(f'concat dim=1: {tensor_cat1.shape}')\n",
        "print(f'stack: {tensor_stack.shape}')"
      ],
      "metadata": {
        "colab": {
          "base_uri": "https://localhost:8080/"
        },
        "id": "VKmCKYlBbd8L",
        "outputId": "9239a8b1-a3cc-4d5c-c361-698854149abe"
      },
      "execution_count": 8,
      "outputs": [
        {
          "output_type": "stream",
          "name": "stdout",
          "text": [
            "concat dim=0: torch.Size([9, 2])\n",
            "concat dim=1: torch.Size([3, 4])\n",
            "stack: torch.Size([4, 3, 2])\n"
          ]
        }
      ]
    },
    {
      "cell_type": "markdown",
      "source": [
        "#Data"
      ],
      "metadata": {
        "id": "1fDUTi8zZBSi"
      }
    },
    {
      "cell_type": "code",
      "source": [
        "# How to use built-in dataset\n",
        "from torchvision import datasets, transforms\n",
        "\n",
        "#torch dataset => vision, text, audio\n",
        "\n",
        "# Dataset\n",
        "# training dataset\n",
        "train_dataset = datasets.FashionMNIST(\n",
        "    root='data',\n",
        "    train=True,\n",
        "    transform=transforms.ToTensor(),\n",
        "    download=True\n",
        ")\n",
        "# root: 저장장소\n",
        "# train : Train 용도인지 확인\n",
        "# ToTensor : 이미지를 텐서로 변경\n",
        "# Download : 반드시 지정\n",
        "\n",
        "# evaluation dataset\n",
        "val_dataset = datasets.FashionMNIST(\n",
        "    root='data',\n",
        "    train=False,\n",
        "    transform=transforms.ToTensor(),\n",
        "    download=True\n",
        ")"
      ],
      "metadata": {
        "id": "ZnSAhItEZC1f",
        "colab": {
          "base_uri": "https://localhost:8080/",
          "height": 440,
          "referenced_widgets": [
            "d9ad1b69df89477fb0cc3e5ba6715ee2",
            "f53cfddfdc1a4a26b6ac600a919605a4",
            "1c1cb6f59af14d0a814a8900bc12f521",
            "e98c2ecca66248209c310c4f7717b69f",
            "fbe81b7e466a4326983ca39def11b417",
            "2d3ebd332a2540a88c063fa7a36de534",
            "8a454fcb234045dba987b1c1a177efad",
            "560dc90c258f4d0b8fba878fd3ee18fc",
            "d3e4566b63bb4c17b9fb8cc057ef225e",
            "ca6ac9ca8ed448c089bf51554f896939",
            "082d071da35d4d25926b9ff43bfb1fbc",
            "14e2f78f97a34fdb94a752636395d33c",
            "0d25a5c852e745cf8308c230219022b5",
            "43b78df8e7544a46b95d24752b573e0e",
            "04ae9ffdd8e247d1b050774e7b12f6f8",
            "1f9997bd44b3464897277357f16470c2",
            "6ae394cecb084160b87a00951197e766",
            "4f122e7292ba44dd8b43bbfcc2ba80cb",
            "ae10c924834248a19d86aa759be50f73",
            "a8a4b6b4f2624d46b50b11392ce10f90",
            "808a6a3f9bfd47f4a97e7d3638a7e31b",
            "cbf546103af34d41975a270f28c799fa",
            "3dc185c7c6d3489f9708d6a48697ef36",
            "867ac9e6df0a48c1a1e2b6aa9daf9a4c",
            "614cd751d9d74ae594df2b29062c72f7",
            "e3267e733bff454283ae33de1a8ae116",
            "d69523261c3b4555bbc1d889b70b7ede",
            "cd2cfe515918416780fd71878683842c",
            "8ea888449b024d009c64dbbaf587f8e1",
            "d394f16d353b4e52929247093906784e",
            "81feb76d3fa942fd9f2d0f7cc0d9645d",
            "d70de836a94f48e8ae1810c75f9050c4",
            "6a16b45fbe9746deb47d47d02836a6a8",
            "7876ca3f73be493b8687fa35c7a6f33d",
            "bd76f597d2cb4200ab049d736633bc28",
            "fc83dad01c9d479ba36eb7aefa68c797",
            "c17b231f395c4d6897abde80339c6841",
            "5fec91115dad4f0ba28a0cb8fa7909ac",
            "71bc31852f3d4afcbf22ed64efec61c8",
            "9e723c768a644fea99f8b8c4c9b423eb",
            "301af1a871ca471bb97318463f02add5",
            "5be87ed8a8854345bcca8484d597728d",
            "a63cd5125c5d4a3784a8bb41fa41b629",
            "8ce6ac68b80b4b2093c807035251a590"
          ]
        },
        "outputId": "10b0b0c7-76d2-40b8-b9a4-1c1cd37b9252"
      },
      "execution_count": 9,
      "outputs": [
        {
          "output_type": "stream",
          "name": "stdout",
          "text": [
            "Downloading http://fashion-mnist.s3-website.eu-central-1.amazonaws.com/train-images-idx3-ubyte.gz\n",
            "Downloading http://fashion-mnist.s3-website.eu-central-1.amazonaws.com/train-images-idx3-ubyte.gz to data/FashionMNIST/raw/train-images-idx3-ubyte.gz\n"
          ]
        },
        {
          "output_type": "display_data",
          "data": {
            "text/plain": [
              "  0%|          | 0/26421880 [00:00<?, ?it/s]"
            ],
            "application/vnd.jupyter.widget-view+json": {
              "version_major": 2,
              "version_minor": 0,
              "model_id": "d9ad1b69df89477fb0cc3e5ba6715ee2"
            }
          },
          "metadata": {}
        },
        {
          "output_type": "stream",
          "name": "stdout",
          "text": [
            "Extracting data/FashionMNIST/raw/train-images-idx3-ubyte.gz to data/FashionMNIST/raw\n",
            "\n",
            "Downloading http://fashion-mnist.s3-website.eu-central-1.amazonaws.com/train-labels-idx1-ubyte.gz\n",
            "Downloading http://fashion-mnist.s3-website.eu-central-1.amazonaws.com/train-labels-idx1-ubyte.gz to data/FashionMNIST/raw/train-labels-idx1-ubyte.gz\n"
          ]
        },
        {
          "output_type": "display_data",
          "data": {
            "text/plain": [
              "  0%|          | 0/29515 [00:00<?, ?it/s]"
            ],
            "application/vnd.jupyter.widget-view+json": {
              "version_major": 2,
              "version_minor": 0,
              "model_id": "14e2f78f97a34fdb94a752636395d33c"
            }
          },
          "metadata": {}
        },
        {
          "output_type": "stream",
          "name": "stdout",
          "text": [
            "Extracting data/FashionMNIST/raw/train-labels-idx1-ubyte.gz to data/FashionMNIST/raw\n",
            "\n",
            "Downloading http://fashion-mnist.s3-website.eu-central-1.amazonaws.com/t10k-images-idx3-ubyte.gz\n",
            "Downloading http://fashion-mnist.s3-website.eu-central-1.amazonaws.com/t10k-images-idx3-ubyte.gz to data/FashionMNIST/raw/t10k-images-idx3-ubyte.gz\n"
          ]
        },
        {
          "output_type": "display_data",
          "data": {
            "text/plain": [
              "  0%|          | 0/4422102 [00:00<?, ?it/s]"
            ],
            "application/vnd.jupyter.widget-view+json": {
              "version_major": 2,
              "version_minor": 0,
              "model_id": "3dc185c7c6d3489f9708d6a48697ef36"
            }
          },
          "metadata": {}
        },
        {
          "output_type": "stream",
          "name": "stdout",
          "text": [
            "Extracting data/FashionMNIST/raw/t10k-images-idx3-ubyte.gz to data/FashionMNIST/raw\n",
            "\n",
            "Downloading http://fashion-mnist.s3-website.eu-central-1.amazonaws.com/t10k-labels-idx1-ubyte.gz\n",
            "Downloading http://fashion-mnist.s3-website.eu-central-1.amazonaws.com/t10k-labels-idx1-ubyte.gz to data/FashionMNIST/raw/t10k-labels-idx1-ubyte.gz\n"
          ]
        },
        {
          "output_type": "display_data",
          "data": {
            "text/plain": [
              "  0%|          | 0/5148 [00:00<?, ?it/s]"
            ],
            "application/vnd.jupyter.widget-view+json": {
              "version_major": 2,
              "version_minor": 0,
              "model_id": "7876ca3f73be493b8687fa35c7a6f33d"
            }
          },
          "metadata": {}
        },
        {
          "output_type": "stream",
          "name": "stdout",
          "text": [
            "Extracting data/FashionMNIST/raw/t10k-labels-idx1-ubyte.gz to data/FashionMNIST/raw\n",
            "\n"
          ]
        }
      ]
    },
    {
      "cell_type": "code",
      "source": [
        "# How to create dataloader\n",
        "from torch.utils.data import DataLoader\n",
        "\n",
        "# DataLoader : Data를 넣어준다\n",
        "# DataLoader 사용하는 이유 : Batch를 반복하며 전체 데이터셋에 대해 전부 적용\n",
        "\n",
        "train_dataloader = DataLoader(\n",
        "    dataset=train_dataset,\n",
        "    batch_size=64,\n",
        "    shuffle=True\n",
        ")\n",
        "# shuffle : Train하는 경우 True\n",
        "\n",
        "val_dataloader = DataLoader(\n",
        "    dataset=val_dataset,\n",
        "    batch_size=64,\n",
        "    shuffle=False\n",
        ")\n",
        "\n",
        "for inputs, labels in train_dataloader:\n",
        "    print(f'Inputs : {inputs.shape}')\n",
        "    print(f'Labels : {labels.shape}')\n",
        "    break\n",
        "\n",
        "# 64(Batch Size)"
      ],
      "metadata": {
        "colab": {
          "base_uri": "https://localhost:8080/"
        },
        "id": "qMkub4OjeFeF",
        "outputId": "8ce7eafb-c8e2-426f-b5cf-39beb41b20d6"
      },
      "execution_count": 10,
      "outputs": [
        {
          "output_type": "stream",
          "name": "stdout",
          "text": [
            "Inputs : torch.Size([64, 1, 28, 28])\n",
            "Labels : torch.Size([64])\n"
          ]
        }
      ]
    },
    {
      "cell_type": "code",
      "source": [
        "import random\n",
        "import matplotlib.pyplot as plt\n",
        "\n",
        "def Tensor2Image(tensor):\n",
        "    image = tensor.numpy()\n",
        "    plt.imshow(image.reshape(28, 28))\n",
        "\n",
        "n = random.randint(0, 1000)\n",
        "\n",
        "input, label = train_dataset[n]\n",
        "\n",
        "print(f'Label: {label}')\n",
        "Tensor2Image(input)"
      ],
      "metadata": {
        "colab": {
          "base_uri": "https://localhost:8080/",
          "height": 283
        },
        "id": "u_BspMwfeosV",
        "outputId": "70b18f3c-9a6d-4132-fdfc-4c43f815f2d8"
      },
      "execution_count": 11,
      "outputs": [
        {
          "output_type": "stream",
          "name": "stdout",
          "text": [
            "Label: 0\n"
          ]
        },
        {
          "output_type": "display_data",
          "data": {
            "text/plain": [
              "<Figure size 432x288 with 1 Axes>"
            ],
            "image/png": "[encoded data removed]"
          },
          "metadata": {
            "needs_background": "light"
          }
        }
      ]
    },
    {
      "cell_type": "markdown",
      "source": [
        "#Model"
      ],
      "metadata": {
        "id": "inczpM26WBWp"
      }
    },
    {
      "cell_type": "code",
      "source": [
        "# To create neural network\n",
        "import torch.nn as nn # nn : Neural Network"
      ],
      "metadata": {
        "id": "jwWsjIoMgxB-"
      },
      "execution_count": 12,
      "outputs": []
    },
    {
      "cell_type": "code",
      "source": [
        "flatten = nn.Flatten()\n",
        "# flatten : 28*28 => 일렬로 늘어뜨린다\n",
        "\n",
        "tensor = torch.ones(64, 1, 28, 28)\n",
        "print(f'Before: {tensor.shape}') #[64, 1, 28, 28]\n",
        "\n",
        "tensor = flatten(tensor)\n",
        "print(f'After: {tensor.shape}') # [64, 784]"
      ],
      "metadata": {
        "colab": {
          "base_uri": "https://localhost:8080/"
        },
        "id": "sI4TM5SigrDM",
        "outputId": "70438912-9d36-401f-e3b6-461e4a6242ec"
      },
      "execution_count": 13,
      "outputs": [
        {
          "output_type": "stream",
          "name": "stdout",
          "text": [
            "Before: torch.Size([64, 1, 28, 28])\n",
            "After: torch.Size([64, 784])\n"
          ]
        }
      ]
    },
    {
      "cell_type": "code",
      "source": [
        "linear = nn.Linear(784, 512) # 784*512 + 512개의 Parameter 존재\n",
        "# Linear : MLP를 구성하는 하나의 Layer\n",
        "\n",
        "print(f'Before: {tensor.shape}') \n",
        "\n",
        "tensor = linear(tensor) #64장에 대한 784개의 숫자를 64장에 대한 512개의 숫자로 바꿔준다.\n",
        "print(f'After: {tensor.shape}')"
      ],
      "metadata": {
        "colab": {
          "base_uri": "https://localhost:8080/"
        },
        "id": "3lFz_8PShIme",
        "outputId": "dc9572a8-8bc2-491c-d0f3-54f67ef86a23"
      },
      "execution_count": 14,
      "outputs": [
        {
          "output_type": "stream",
          "name": "stdout",
          "text": [
            "Before: torch.Size([64, 784])\n",
            "After: torch.Size([64, 512])\n"
          ]
        }
      ]
    },
    {
      "cell_type": "code",
      "source": [
        "relu = nn.ReLU()\n",
        "# ReLU : Activation Function\n",
        "tensor = torch.tensor([[0.8908, -0.1784], [-0.3282, 0.4263]])\n",
        "print(f'Before\\n{tensor}')\n",
        "\n",
        "tensor = relu(tensor)\n",
        "print(f'After\\n{tensor}') # ReLU 적용결과 : 음수는 0으로, 양수는 그대로"
      ],
      "metadata": {
        "colab": {
          "base_uri": "https://localhost:8080/"
        },
        "id": "P_gC3j10hYl_",
        "outputId": "835ac109-a1c1-4b9c-ead8-509cd2fb5434"
      },
      "execution_count": 15,
      "outputs": [
        {
          "output_type": "stream",
          "name": "stdout",
          "text": [
            "Before\n",
            "tensor([[ 0.8908, -0.1784],\n",
            "        [-0.3282,  0.4263]])\n",
            "After\n",
            "tensor([[0.8908, 0.0000],\n",
            "        [0.0000, 0.4263]])\n"
          ]
        }
      ]
    },
    {
      "cell_type": "code",
      "source": [
        "# How to create single network\n",
        "# 모든 모듈은 nn.Module을 상속받아서 사용\n",
        "# 왜 상속해서 사용하는가 : 연산이 이루어지는 과정을 기록하고 이를 Gradient Descent 계산 과정에서 사용하게 된다.\n",
        "\n",
        "class NeuralNetwork(nn.Module):\n",
        "    def __init__(self):\n",
        "        super().__init__() \n",
        "        \n",
        "        self.network = nn.Sequential(\n",
        "            nn.Flatten(),\n",
        "            nn.Linear(28 * 28, 512),\n",
        "            nn.ReLU(),\n",
        "            nn.Linear(512, 512),\n",
        "            nn.ReLU(),\n",
        "            nn.Linear(512, 512),\n",
        "            nn.ReLU(),\n",
        "            nn.Linear(512, 10)\n",
        "        )\n",
        "# Sequential : 순차적으로 통과시킴\n",
        "# 최종 차원 : 64*10\n",
        "# init : 모델 자체를 정의한다.\n",
        "\n",
        "    def forward(self, inputs):\n",
        "        return self.network(inputs)\n",
        "\n",
        "# forward : 연산 진행 과정을 정의한다.\n",
        "\n",
        "test_input = torch.ones(64, 1, 28, 28)\n",
        "test_network = NeuralNetwork()\n",
        "test_output = test_network(test_input)\n",
        "\n",
        "print(f'Input: {test_input.shape}')\n",
        "print(f'Output: {test_output.shape}') # 64장의 사진에 대해서 10개의 Prediction"
      ],
      "metadata": {
        "colab": {
          "base_uri": "https://localhost:8080/"
        },
        "id": "GoUb5LGBWCcV",
        "outputId": "79c76c6c-481a-423d-949b-e5eb7a1ff423"
      },
      "execution_count": 16,
      "outputs": [
        {
          "output_type": "stream",
          "name": "stdout",
          "text": [
            "Input: torch.Size([64, 1, 28, 28])\n",
            "Output: torch.Size([64, 10])\n"
          ]
        }
      ]
    },
    {
      "cell_type": "code",
      "source": [
        "# How to use network as a block\n",
        "# 위와 동일 의미\n",
        "class NeuralBlock(nn.Module):\n",
        "    def __init__(self, in_features, out_features):\n",
        "        super().__init__()\n",
        "\n",
        "        self.block = nn.Sequential(\n",
        "            nn.Linear(in_features, out_features),\n",
        "            nn.ReLU()\n",
        "        )\n",
        "    \n",
        "    def forward(self, inputs):\n",
        "        return self.block(inputs)\n",
        "\n",
        "class NeuralNetworkV2(nn.Module):\n",
        "    def __init__(self):\n",
        "        super().__init__()\n",
        "\n",
        "        self.network = nn.Sequential(\n",
        "            nn.Flatten(),\n",
        "            NeuralBlock(28 * 28, 512),\n",
        "            NeuralBlock(512, 512),\n",
        "            NeuralBlock(512, 512),\n",
        "            nn.Linear(512, 10)\n",
        "        )\n",
        "\n",
        "    def forward(self, inputs):\n",
        "        return self.network(inputs)\n",
        "\n",
        "test_input = torch.ones(64, 1, 28, 28)\n",
        "test_network = NeuralNetworkV2()\n",
        "test_output = test_network(test_input)\n",
        "\n",
        "print(f'Input: {test_input.shape}')\n",
        "print(f'Output: {test_output.shape}')"
      ],
      "metadata": {
        "colab": {
          "base_uri": "https://localhost:8080/"
        },
        "id": "QVMD-IgwiRb7",
        "outputId": "6a601be7-8dc3-4c16-a82c-2bf0965920c3"
      },
      "execution_count": 17,
      "outputs": [
        {
          "output_type": "stream",
          "name": "stdout",
          "text": [
            "Input: torch.Size([64, 1, 28, 28])\n",
            "Output: torch.Size([64, 10])\n"
          ]
        }
      ]
    },
    {
      "cell_type": "code",
      "source": [
        "print(test_network)"
      ],
      "metadata": {
        "colab": {
          "base_uri": "https://localhost:8080/"
        },
        "id": "i8OaeQzPjqqn",
        "outputId": "ae19b758-5621-4559-c6e3-2e4693b2cb33"
      },
      "execution_count": 18,
      "outputs": [
        {
          "output_type": "stream",
          "name": "stdout",
          "text": [
            "NeuralNetworkV2(\n",
            "  (network): Sequential(\n",
            "    (0): Flatten(start_dim=1, end_dim=-1)\n",
            "    (1): NeuralBlock(\n",
            "      (block): Sequential(\n",
            "        (0): Linear(in_features=784, out_features=512, bias=True)\n",
            "        (1): ReLU()\n",
            "      )\n",
            "    )\n",
            "    (2): NeuralBlock(\n",
            "      (block): Sequential(\n",
            "        (0): Linear(in_features=512, out_features=512, bias=True)\n",
            "        (1): ReLU()\n",
            "      )\n",
            "    )\n",
            "    (3): NeuralBlock(\n",
            "      (block): Sequential(\n",
            "        (0): Linear(in_features=512, out_features=512, bias=True)\n",
            "        (1): ReLU()\n",
            "      )\n",
            "    )\n",
            "    (4): Linear(in_features=512, out_features=10, bias=True)\n",
            "  )\n",
            ")\n"
          ]
        }
      ]
    },
    {
      "cell_type": "markdown",
      "source": [
        "#Loss"
      ],
      "metadata": {
        "id": "1E7GyH6QWC4F"
      }
    },
    {
      "cell_type": "code",
      "source": [
        "# Loss comparison\n",
        "criterion = nn.CrossEntropyLoss() # crossEntrophyLoss -> Classification에서 사용함\n",
        "\n",
        "test_outputs0 = torch.tensor([[1, 2 ,3], [2, 3, 1]], dtype=torch.float)\n",
        "test_outputs1 = torch.tensor([[3, 2, 1], [1, 2, 3]], dtype=torch.float)\n",
        "test_labels = torch.tensor([0, 2])\n",
        "\n",
        "loss0 = criterion(test_outputs0, test_labels)\n",
        "loss1 = criterion(test_outputs1, test_labels)\n",
        "\n",
        "print(f'Loss 0: {loss0}')\n",
        "print(f'Loss 1: {loss1}')"
      ],
      "metadata": {
        "colab": {
          "base_uri": "https://localhost:8080/"
        },
        "id": "HCzKcMTCWD9U",
        "outputId": "d1f75423-fe6f-469f-da01-310f6de60c4a"
      },
      "execution_count": 19,
      "outputs": [
        {
          "output_type": "stream",
          "name": "stdout",
          "text": [
            "Loss 0: 2.4076058864593506\n",
            "Loss 1: 0.40760594606399536\n"
          ]
        }
      ]
    },
    {
      "cell_type": "markdown",
      "source": [
        "#Training Process"
      ],
      "metadata": {
        "id": "gzLnIeasWEX_"
      }
    },
    {
      "cell_type": "code",
      "source": [
        "#Train과 Evaluation 각각 한번씩 반복한다\n",
        "\n",
        "import torch.optim as optim\n",
        "from tqdm import tqdm"
      ],
      "metadata": {
        "id": "-Bv_S6m2WF2Z"
      },
      "execution_count": null,
      "outputs": []
    },
    {
      "cell_type": "code",
      "source": [
        "def train_one_epoch(model, dataloader, criterion, optimizer, device): # epoch : 한번의 데이터를 전체 다 보는 횟수\n",
        "    model.train() # 하나의 옵션 지정(ex. dropout)\n",
        "\n",
        "    train_loss = 0.0\n",
        "    for inputs, labels in tqdm(dataloader):\n",
        "        inputs, labels = inputs.to(device), labels.to(device)\n",
        "\n",
        "        # model과 input을 동일한 device에 저장\n",
        "        \n",
        "        # Forward\n",
        "        outputs = model(inputs)\n",
        "        loss = criterion(outputs, labels)\n",
        "\n",
        "        # Backward and gradient descent\n",
        "        optimizer.zero_grad() # 이전 배치의 Gradient 초기화한다\n",
        "        loss.backward() # Gradient 계산\n",
        "        optimizer.step() # Gradient를 따라서 이동한다\n",
        "\n",
        "        train_loss += loss.item()\n",
        "    \n",
        "    print(f'Train Loss: {train_loss}')"
      ],
      "metadata": {
        "id": "Ww18jQRdl9Pu"
      },
      "execution_count": null,
      "outputs": []
    },
    {
      "cell_type": "code",
      "source": [
        "def eval_one_epoch(model, dataloader, criterion, device):\n",
        "    model.eval()\n",
        "\n",
        "    eval_loss = 0.0\n",
        "    for inputs, labels in tqdm(dataloader):\n",
        "        inputs, labels = inputs.to(device), labels.to(device)\n",
        "\n",
        "        # Forward\n",
        "        with torch.no_grad(): # 함수 torch.no_grad() : Gradient를 계산하지 않음 => Forward 시 Gradient 계산하지 않음\n",
        "            outputs = model(inputs)\n",
        "            loss = criterion(outputs, labels)\n",
        "\n",
        "        eval_loss += loss.item()\n",
        "    \n",
        "    print(f'Eval Loss: {eval_loss}')"
      ],
      "metadata": {
        "id": "5QJ66YbvmLOH"
      },
      "execution_count": null,
      "outputs": []
    },
    {
      "cell_type": "code",
      "source": [
        "def train(epochs):\n",
        "    net = NeuralNetwork()\n",
        "\n",
        "    optimizer = optim.SGD(params=net.parameters(), lr=1e-3) \n",
        "    \n",
        "    # optimizer 설정 : net내의 weight를 관리한다.+ 한번 반복 후 초기화\n",
        "    # net.parameters() 옵션을 지정해줘야함\n",
        "\n",
        "    # Use Accelerator\n",
        "    device = 'cuda' if torch.cuda.is_available() else 'cpu' #GPU 사용할 수 있을 시 cuda\n",
        "\n",
        "    print(f'Device : {device}')\n",
        "\n",
        "    net = net.to(device) #network와 data를 하나의 device에서 학습할 수 있도록\n",
        "\n",
        "    for epoch in range(epochs):\n",
        "        print(f'Epoch : {epoch + 1} ==============================')\n",
        "        train_one_epoch(\n",
        "            model=net,\n",
        "            dataloader=train_dataloader,\n",
        "            criterion=criterion,\n",
        "            optimizer=optimizer,\n",
        "            device=device\n",
        "        )\n",
        "        eval_one_epoch(\n",
        "            model=net,\n",
        "            dataloader=val_dataloader,\n",
        "            criterion=criterion,\n",
        "            device=device\n",
        "        )\n",
        "    torch.save(net.state_dict(), 'network.pth') #network를 저장하는 코드\n",
        "\n",
        "train(5)"
      ],
      "metadata": {
        "colab": {
          "base_uri": "https://localhost:8080/"
        },
        "id": "ievvhLvimQDj",
        "outputId": "ea1aa924-813c-4594-c3c0-5353033d4e19"
      },
      "execution_count": null,
      "outputs": [
        {
          "output_type": "stream",
          "name": "stdout",
          "text": [
            "Device : cuda\n",
            "Epoch : 1 ==============================\n"
          ]
        },
        {
          "output_type": "stream",
          "name": "stderr",
          "text": [
            "100%|██████████| 938/938 [00:06<00:00, 135.66it/s]\n"
          ]
        },
        {
          "output_type": "stream",
          "name": "stdout",
          "text": [
            "Train Loss: 2141.367001771927\n"
          ]
        },
        {
          "output_type": "stream",
          "name": "stderr",
          "text": [
            "100%|██████████| 157/157 [00:00<00:00, 165.49it/s]\n"
          ]
        },
        {
          "output_type": "stream",
          "name": "stdout",
          "text": [
            "Eval Loss: 355.806649684906\n",
            "Epoch : 2 ==============================\n"
          ]
        },
        {
          "output_type": "stream",
          "name": "stderr",
          "text": [
            "100%|██████████| 938/938 [00:06<00:00, 139.06it/s]\n"
          ]
        },
        {
          "output_type": "stream",
          "name": "stdout",
          "text": [
            "Train Loss: 2103.089649438858\n"
          ]
        },
        {
          "output_type": "stream",
          "name": "stderr",
          "text": [
            "100%|██████████| 157/157 [00:00<00:00, 163.15it/s]\n"
          ]
        },
        {
          "output_type": "stream",
          "name": "stdout",
          "text": [
            "Eval Loss: 347.21812415122986\n",
            "Epoch : 3 ==============================\n"
          ]
        },
        {
          "output_type": "stream",
          "name": "stderr",
          "text": [
            "100%|██████████| 938/938 [00:06<00:00, 137.03it/s]\n"
          ]
        },
        {
          "output_type": "stream",
          "name": "stdout",
          "text": [
            "Train Loss: 2023.8497591018677\n"
          ]
        },
        {
          "output_type": "stream",
          "name": "stderr",
          "text": [
            "100%|██████████| 157/157 [00:00<00:00, 165.86it/s]\n"
          ]
        },
        {
          "output_type": "stream",
          "name": "stdout",
          "text": [
            "Eval Loss: 327.6778995990753\n",
            "Epoch : 4 ==============================\n"
          ]
        },
        {
          "output_type": "stream",
          "name": "stderr",
          "text": [
            "100%|██████████| 938/938 [00:06<00:00, 136.57it/s]\n"
          ]
        },
        {
          "output_type": "stream",
          "name": "stdout",
          "text": [
            "Train Loss: 1843.2538604736328\n"
          ]
        },
        {
          "output_type": "stream",
          "name": "stderr",
          "text": [
            "100%|██████████| 157/157 [00:01<00:00, 105.09it/s]\n"
          ]
        },
        {
          "output_type": "stream",
          "name": "stdout",
          "text": [
            "Eval Loss: 285.7288906574249\n",
            "Epoch : 5 ==============================\n"
          ]
        },
        {
          "output_type": "stream",
          "name": "stderr",
          "text": [
            "100%|██████████| 938/938 [00:07<00:00, 119.62it/s]\n"
          ]
        },
        {
          "output_type": "stream",
          "name": "stdout",
          "text": [
            "Train Loss: 1550.9986325502396\n"
          ]
        },
        {
          "output_type": "stream",
          "name": "stderr",
          "text": [
            "100%|██████████| 157/157 [00:00<00:00, 163.58it/s]"
          ]
        },
        {
          "output_type": "stream",
          "name": "stdout",
          "text": [
            "Eval Loss: 236.31706070899963\n"
          ]
        },
        {
          "output_type": "stream",
          "name": "stderr",
          "text": [
            "\n"
          ]
        }
      ]
    },
    {
      "cell_type": "markdown",
      "source": [
        "#Test"
      ],
      "metadata": {
        "id": "ZI9j8yJkLc7h"
      }
    },
    {
      "cell_type": "code",
      "source": [
        "# How to compute proba\n",
        "softmax = nn.Softmax(dim=1)\n",
        "\n",
        "test_output = torch.tensor([\n",
        "    [1, 2, 3],\n",
        "    [2, 4, 6],\n",
        "], dtype=torch.float)\n",
        "\n",
        "print(softmax(test_output))"
      ],
      "metadata": {
        "colab": {
          "base_uri": "https://localhost:8080/"
        },
        "id": "4qqJE9bbpXJE",
        "outputId": "227bbb36-e53e-4983-f8fb-62d2fc5fb053"
      },
      "execution_count": null,
      "outputs": [
        {
          "output_type": "stream",
          "name": "stdout",
          "text": [
            "tensor([[0.0900, 0.2447, 0.6652],\n",
            "        [0.0159, 0.1173, 0.8668]])\n"
          ]
        }
      ]
    },
    {
      "cell_type": "code",
      "source": [
        "# Random sample\n",
        "n = random.randint(0, len(val_dataset) - 1)\n",
        "\n",
        "test_input, test_label = val_dataset[n]\n",
        "\n",
        "print(f'label : {test_label}')\n",
        "Tensor2Image(test_input)"
      ],
      "metadata": {
        "colab": {
          "base_uri": "https://localhost:8080/",
          "height": 283
        },
        "id": "P5mQztD4oLo4",
        "outputId": "6f24810c-e4ad-4923-e8b2-6bff0f1eb5c6"
      },
      "execution_count": null,
      "outputs": [
        {
          "output_type": "stream",
          "name": "stdout",
          "text": [
            "label : 9\n"
          ]
        },
        {
          "output_type": "display_data",
          "data": {
            "text/plain": [
              "<Figure size 432x288 with 1 Axes>"
            ],
            "image/png": "[encoded data removed]"
          },
          "metadata": {
            "needs_background": "light"
          }
        }
      ]
    },
    {
      "cell_type": "code",
      "source": [
        "# Untrained Network\n",
        "net = NeuralNetwork()\n",
        "\n",
        "test_output = net(test_input)\n",
        "test_prob = softmax(test_output)\n",
        "test_predict = test_prob.argmax() # 가장 큰 확률의 인덱스번호를 확인한다\n",
        "\n",
        "print(test_output)\n",
        "print(test_prob)\n",
        "print(test_predict)"
      ],
      "metadata": {
        "colab": {
          "base_uri": "https://localhost:8080/"
        },
        "id": "waNH5c_fpNAW",
        "outputId": "90c34836-5b9b-4da1-dcf5-292b1faabf84"
      },
      "execution_count": null,
      "outputs": [
        {
          "output_type": "stream",
          "name": "stdout",
          "text": [
            "tensor([[ 0.0316,  0.0194, -0.0232, -0.0813,  0.0476, -0.0661,  0.0144, -0.0496,\n",
            "          0.0268,  0.0435]], grad_fn=<AddmmBackward0>)\n",
            "tensor([[0.1035, 0.1022, 0.0980, 0.0924, 0.1052, 0.0939, 0.1017, 0.0954, 0.1030,\n",
            "         0.1047]], grad_fn=<SoftmaxBackward0>)\n",
            "tensor(4)\n"
          ]
        }
      ]
    },
    {
      "cell_type": "code",
      "source": [
        "# Trained Network\n",
        "net.load_state_dict(torch.load('network.pth'))\n",
        "\n",
        "test_output = net(test_input)\n",
        "test_prob = softmax(test_output)\n",
        "test_predict = test_prob.argmax()\n",
        "\n",
        "print(test_output)\n",
        "print(test_prob)\n",
        "print(test_predict)"
      ],
      "metadata": {
        "colab": {
          "base_uri": "https://localhost:8080/"
        },
        "id": "QYJ91XibpDYG",
        "outputId": "b5a4adbc-082d-4933-f8f9-361a9cedda19"
      },
      "execution_count": null,
      "outputs": [
        {
          "output_type": "stream",
          "name": "stdout",
          "text": [
            "tensor([[-1.8027, -2.5062, -0.2492, -2.3445, -0.2869,  1.0089, -0.5627,  1.8372,\n",
            "          2.0607,  2.9393]], grad_fn=<AddmmBackward0>)\n",
            "tensor([[0.0043, 0.0021, 0.0204, 0.0025, 0.0196, 0.0718, 0.0149, 0.1643, 0.2054,\n",
            "         0.4946]], grad_fn=<SoftmaxBackward0>)\n",
            "tensor(9)\n"
          ]
        }
      ]
    },
    {
      "cell_type": "code",
      "source": [],
      "metadata": {
        "id": "HMFSGK39LuXr"
      },
      "execution_count": null,
      "outputs": []
    }
  ]
}